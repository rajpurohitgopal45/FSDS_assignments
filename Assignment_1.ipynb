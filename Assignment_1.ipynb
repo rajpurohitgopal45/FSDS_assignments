{
 "cells": [
  {
   "cell_type": "code",
   "execution_count": null,
   "id": "4273a731",
   "metadata": {},
   "outputs": [],
   "source": [
    "\"\"\"1) which of them are values or expression\n",
    "\n",
    "*        expression\n",
    "'hello'  value\n",
    "-87.8    value\n",
    "-        expression\n",
    "/        expression\n",
    "+        expression\n",
    "6        value \"\"\""
   ]
  },
  {
   "cell_type": "code",
   "execution_count": null,
   "id": "8f4fd6ac",
   "metadata": {},
   "outputs": [],
   "source": [
    "\"\"\"2) difference between string and variable\n",
    "\n",
    "String   : string is data type which can store array of character in quotes\n",
    "variable : variable can store the values. it can be string,integer,etc \"\"\"   "
   ]
  },
  {
   "cell_type": "code",
   "execution_count": null,
   "id": "cb2680b2",
   "metadata": {},
   "outputs": [],
   "source": [
    "\"\"\"3) describe 3 different data types \n",
    "\n",
    "integer data type : it stores whole numbers that range from -2,147,483,647 to 2,147,483,647 for 9 or 10 digits of precision\n",
    "string data type  : it can store array of character. eg \"iNeuron\", \"12365\"  \n",
    "Boolean data type : it is a data type that has one of two possible values (usually denoted true and false)  \"\"\"  "
   ]
  },
  {
   "cell_type": "code",
   "execution_count": null,
   "id": "de9f83a1",
   "metadata": {},
   "outputs": [],
   "source": [
    "\"\"\"4) Expression is made up of values and mathematical operators & they perform mathematical operations.\n",
    "they used to evaluate the values\"\"\""
   ]
  },
  {
   "cell_type": "code",
   "execution_count": null,
   "id": "0b52dec4",
   "metadata": {},
   "outputs": [],
   "source": [
    "\"\"\"5) Expression is made up of values and mathematical operators\n",
    " and the statement is like a command that executed\"\"\""
   ]
  },
  {
   "cell_type": "code",
   "execution_count": 2,
   "id": "e3529a01",
   "metadata": {},
   "outputs": [
    {
     "data": {
      "text/plain": [
       "23"
      ]
     },
     "execution_count": 2,
     "metadata": {},
     "output_type": "execute_result"
    }
   ],
   "source": [
    "\"\"\"6) \"\"\"\n",
    "bacon=22\n",
    "bacon + 1"
   ]
  },
  {
   "cell_type": "code",
   "execution_count": 3,
   "id": "2eae1712",
   "metadata": {},
   "outputs": [
    {
     "data": {
      "text/plain": [
       "'spamspamspam'"
      ]
     },
     "execution_count": 3,
     "metadata": {},
     "output_type": "execute_result"
    }
   ],
   "source": [
    "\"\"\"7)\"\"\"\n",
    "'spam'+'spamspam'"
   ]
  },
  {
   "cell_type": "code",
   "execution_count": 4,
   "id": "6a3bc092",
   "metadata": {},
   "outputs": [
    {
     "data": {
      "text/plain": [
       "'spamspamspam'"
      ]
     },
     "execution_count": 4,
     "metadata": {},
     "output_type": "execute_result"
    }
   ],
   "source": [
    "'spam'*3"
   ]
  },
  {
   "cell_type": "code",
   "execution_count": null,
   "id": "5a32db71",
   "metadata": {},
   "outputs": [],
   "source": [
    "\"\"\"8) why eggs is valid variable name\n",
    "variable name cannot start with integer \"\"\""
   ]
  },
  {
   "cell_type": "code",
   "execution_count": null,
   "id": "d25ccf16",
   "metadata": {},
   "outputs": [],
   "source": [
    "\"\"\"9) str() int(), float()\"\"\""
   ]
  },
  {
   "cell_type": "code",
   "execution_count": null,
   "id": "603b844c",
   "metadata": {},
   "outputs": [],
   "source": [
    "\"\"\"10) Why does this expression cause an error? How can you fix it?\n",
    "\n",
    "'I have eaten' + 99 + 'burritos' \n",
    "because 99 is an integer it cannot be concatenated with strings.\n",
    "typecasting required to fix this \"\"\""
   ]
  }
 ],
 "metadata": {
  "kernelspec": {
   "display_name": "Python 3 (ipykernel)",
   "language": "python",
   "name": "python3"
  },
  "language_info": {
   "codemirror_mode": {
    "name": "ipython",
    "version": 3
   },
   "file_extension": ".py",
   "mimetype": "text/x-python",
   "name": "python",
   "nbconvert_exporter": "python",
   "pygments_lexer": "ipython3",
   "version": "3.9.7"
  }
 },
 "nbformat": 4,
 "nbformat_minor": 5
}
